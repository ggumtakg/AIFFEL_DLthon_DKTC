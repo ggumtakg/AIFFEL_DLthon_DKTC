{
  "nbformat": 4,
  "nbformat_minor": 0,
  "metadata": {
    "colab": {
      "provenance": []
    },
    "kernelspec": {
      "name": "python3",
      "display_name": "Python 3"
    },
    "language_info": {
      "name": "python"
    }
  },
  "cells": [
    {
      "cell_type": "markdown",
      "source": [
        "- 첫번째 코드블럭 : 파일에서 txt파일을 읽어오고 형식에 맞게 수정\n",
        "- 두번째 코드블럭 : 여러개의 csv파일을 통합"
      ],
      "metadata": {
        "id": "J2iGyZc3Z9qK"
      }
    },
    {
      "cell_type": "code",
      "execution_count": null,
      "metadata": {
        "id": "uMsMVh5U2ahP",
        "colab": {
          "base_uri": "https://localhost:8080/"
        },
        "outputId": "64b97c12-6778-4eca-edce-58a34c3e2bf8"
      },
      "outputs": [
        {
          "output_type": "stream",
          "name": "stdout",
          "text": [
            "CSV 파일이 성공적으로 저장되었습니다.\n"
          ]
        }
      ],
      "source": [
        "import os\n",
        "import pandas as pd\n",
        "\n",
        "def read_and_combine_text_files(folder_path):\n",
        "    combined_sentences = []\n",
        "\n",
        "    # 폴더 내의 모든 파일을 순회\n",
        "    for filename in os.listdir(folder_path):\n",
        "        if filename.startswith('FACEBOOK') and filename.endswith('.txt'):\n",
        "            file_path = os.path.join(folder_path, filename)\n",
        "\n",
        "            with open(file_path, 'r', encoding='utf-8') as file:\n",
        "                lines = file.readlines()\n",
        "                combined_sentence = ''\n",
        "\n",
        "                for line in lines:\n",
        "                    # '숫자 : 문장' 형식에서 문장만 추출\n",
        "                    if ' : ' in line:\n",
        "                        sentence = line.split(' : ', 1)[1].strip()\n",
        "                        combined_sentence += sentence + ' '\n",
        "\n",
        "                # 마지막 공백 제거\n",
        "                combined_sentence = combined_sentence.strip()\n",
        "                combined_sentences.append(combined_sentence)\n",
        "\n",
        "    return combined_sentences\n",
        "\n",
        "# 폴더 경로 지정\n",
        "folder_path = 'drive/MyDrive/data'\n",
        "\n",
        "# 함수 호출 및 결과 저장\n",
        "combined_sentences = read_and_combine_text_files(folder_path)\n",
        "\n",
        "# 데이터프레임 생성\n",
        "data = {\n",
        "    'idx': list(range(len(combined_sentences))),\n",
        "    'class': ['일반 대화'] * len(combined_sentences),\n",
        "    'conversation': combined_sentences\n",
        "}\n",
        "\n",
        "df = pd.DataFrame(data)\n",
        "\n",
        "# CSV 파일로 저장\n",
        "df.to_csv('train.csv', index=False, encoding='utf-8')\n",
        "\n",
        "print(\"CSV 파일이 성공적으로 저장되었습니다.\")"
      ]
    },
    {
      "cell_type": "code",
      "source": [
        "import os\n",
        "import pandas as pd\n",
        "\n",
        "def merge_csv_files(folder_path, output_file):\n",
        "    # 빈 데이터프레임 생성\n",
        "    combined_df = pd.DataFrame(columns=['idx', 'class', 'conversation'])\n",
        "\n",
        "    # 폴더 내의 모든 CSV 파일을 순회\n",
        "    for filename in os.listdir(folder_path):\n",
        "        if filename.endswith('.csv'):\n",
        "            file_path = os.path.join(folder_path, filename)\n",
        "\n",
        "            # CSV 파일 읽기\n",
        "            df = pd.read_csv(file_path)\n",
        "\n",
        "            # class 열을 '일반 대화'로 설정\n",
        "            df['class'] = '일반 대화'\n",
        "\n",
        "            # 기존 데이터프레임에 추가\n",
        "            combined_df = pd.concat([combined_df, df], ignore_index=True)\n",
        "\n",
        "    # idx 열을 0부터 다시 시작\n",
        "    combined_df['idx'] = range(len(combined_df))\n",
        "\n",
        "    # 결과를 CSV 파일로 저장\n",
        "    combined_df.to_csv(output_file, index=False, encoding='utf-8')\n",
        "\n",
        "    print(f\"CSV 파일이 성공적으로 {output_file}로 저장되었습니다.\")\n",
        "\n",
        "# 폴더 경로 지정\n",
        "folder_path = './'\n",
        "\n",
        "# 출력 파일 경로 지정\n",
        "output_file = 'merged_train.csv'\n",
        "\n",
        "# 함수 호출\n",
        "merge_csv_files(folder_path, output_file)\n"
      ],
      "metadata": {
        "colab": {
          "base_uri": "https://localhost:8080/"
        },
        "id": "acqei5m9UvJZ",
        "outputId": "fa08f291-4e5c-47b9-cb0b-24038030f6dc"
      },
      "execution_count": null,
      "outputs": [
        {
          "output_type": "stream",
          "name": "stdout",
          "text": [
            "CSV 파일이 성공적으로 merged_train.csv로 저장되었습니다.\n"
          ]
        }
      ]
    }
  ]
}